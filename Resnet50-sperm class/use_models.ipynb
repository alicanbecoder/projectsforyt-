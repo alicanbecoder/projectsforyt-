{
 "cells": [
  {
   "cell_type": "code",
   "execution_count": null,
   "metadata": {},
   "outputs": [],
   "source": [
    "import joblib\n",
    "import pandas as pd"
   ]
  },
  {
   "cell_type": "code",
   "execution_count": null,
   "metadata": {},
   "outputs": [],
   "source": [
    "\n",
    "def load_data(file_path):\n",
    "    # Veri setini yükleme\n",
    "    data = pd.read_csv(file_path, delimiter=';')\n",
    "    return data\n",
    "\n",
    "def predict_with_models(data):\n",
    "    # Hedef değişkeni ve özellikleri ayırma\n",
    "    X = data.drop('quality', axis=1)\n",
    "    y = data['quality']\n",
    "\n",
    "    # Eğitimli modelleri yükleme\n",
    "    log_reg = joblib.load('logistic_regression_model.pkl')\n",
    "    rf_clf = joblib.load('random_forest_model.pkl')\n",
    "\n",
    "    # Tahmin yapma\n",
    "    log_reg_predictions = log_reg.predict(X)\n",
    "    rf_clf_predictions = rf_clf.predict(X)\n",
    "\n",
    "    # Tahmin sonuçlarını yazdırma\n",
    "    print(\"Logistic Regression Predictions:\", log_reg_predictions)\n",
    "    print(\"Random Forest Predictions:\", rf_clf_predictions)\n",
    "\n",
    "if __name__ == \"__main__\":\n",
    "    data = load_data('data/winequality-red.csv')\n",
    "    predict_with_models(data)"
   ]
  }
 ],
 "metadata": {
  "kernelspec": {
   "display_name": "base",
   "language": "python",
   "name": "python3"
  },
  "language_info": {
   "name": "python",
   "version": "3.12.4"
  }
 },
 "nbformat": 4,
 "nbformat_minor": 2
}
